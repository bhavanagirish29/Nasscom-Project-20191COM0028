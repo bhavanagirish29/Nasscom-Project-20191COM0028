{
  "nbformat": 4,
  "nbformat_minor": 0,
  "metadata": {
    "colab": {
      "name": "20191COM0028_nasscom.ipynb",
      "provenance": [],
      "collapsed_sections": []
    },
    "kernelspec": {
      "name": "python3",
      "display_name": "Python 3"
    },
    "language_info": {
      "name": "python"
    }
  },
  "cells": [
    {
      "cell_type": "markdown",
      "metadata": {
        "id": "GPp7lukmaN3r"
      },
      "source": [
        "**NASSCOM MINI PROJECT - 20191COM0028**"
      ]
    },
    {
      "cell_type": "markdown",
      "metadata": {
        "id": "7iomRnA4aZN8"
      },
      "source": [
        "**CAMPUS PLACEMENT PREDICTION**"
      ]
    },
    {
      "cell_type": "code",
      "metadata": {
        "id": "fulNB4CiAoEf"
      },
      "source": [
        "import pandas as pd\n",
        "import numpy as np\n",
        "import matplotlib.pyplot as plt\n",
        "import seaborn as sns"
      ],
      "execution_count": 55,
      "outputs": []
    },
    {
      "cell_type": "code",
      "metadata": {
        "colab": {
          "base_uri": "https://localhost:8080/",
          "height": 204
        },
        "id": "CbL5Iz1Nzmxe",
        "outputId": "98348bfd-db29-4ca8-c279-e817a54dca5e"
      },
      "source": [
        "placement_df = pd.read_csv(\"Placement_Data_Full_Class.csv\")\n",
        "placement_df.head()"
      ],
      "execution_count": 56,
      "outputs": [
        {
          "output_type": "execute_result",
          "data": {
            "text/html": [
              "<div>\n",
              "<style scoped>\n",
              "    .dataframe tbody tr th:only-of-type {\n",
              "        vertical-align: middle;\n",
              "    }\n",
              "\n",
              "    .dataframe tbody tr th {\n",
              "        vertical-align: top;\n",
              "    }\n",
              "\n",
              "    .dataframe thead th {\n",
              "        text-align: right;\n",
              "    }\n",
              "</style>\n",
              "<table border=\"1\" class=\"dataframe\">\n",
              "  <thead>\n",
              "    <tr style=\"text-align: right;\">\n",
              "      <th></th>\n",
              "      <th>sl_no</th>\n",
              "      <th>gender</th>\n",
              "      <th>ssc_p</th>\n",
              "      <th>ssc_b</th>\n",
              "      <th>hsc_p</th>\n",
              "      <th>hsc_b</th>\n",
              "      <th>hsc_s</th>\n",
              "      <th>degree_p</th>\n",
              "      <th>degree_t</th>\n",
              "      <th>workex</th>\n",
              "      <th>etest_p</th>\n",
              "      <th>specialisation</th>\n",
              "      <th>mba_p</th>\n",
              "      <th>status</th>\n",
              "      <th>salary</th>\n",
              "    </tr>\n",
              "  </thead>\n",
              "  <tbody>\n",
              "    <tr>\n",
              "      <th>0</th>\n",
              "      <td>1</td>\n",
              "      <td>M</td>\n",
              "      <td>67.00</td>\n",
              "      <td>Others</td>\n",
              "      <td>91.00</td>\n",
              "      <td>Others</td>\n",
              "      <td>Commerce</td>\n",
              "      <td>58.00</td>\n",
              "      <td>Sci&amp;Tech</td>\n",
              "      <td>No</td>\n",
              "      <td>55.0</td>\n",
              "      <td>Mkt&amp;HR</td>\n",
              "      <td>58.80</td>\n",
              "      <td>Placed</td>\n",
              "      <td>270000.0</td>\n",
              "    </tr>\n",
              "    <tr>\n",
              "      <th>1</th>\n",
              "      <td>2</td>\n",
              "      <td>M</td>\n",
              "      <td>79.33</td>\n",
              "      <td>Central</td>\n",
              "      <td>78.33</td>\n",
              "      <td>Others</td>\n",
              "      <td>Science</td>\n",
              "      <td>77.48</td>\n",
              "      <td>Sci&amp;Tech</td>\n",
              "      <td>Yes</td>\n",
              "      <td>86.5</td>\n",
              "      <td>Mkt&amp;Fin</td>\n",
              "      <td>66.28</td>\n",
              "      <td>Placed</td>\n",
              "      <td>200000.0</td>\n",
              "    </tr>\n",
              "    <tr>\n",
              "      <th>2</th>\n",
              "      <td>3</td>\n",
              "      <td>M</td>\n",
              "      <td>65.00</td>\n",
              "      <td>Central</td>\n",
              "      <td>68.00</td>\n",
              "      <td>Central</td>\n",
              "      <td>Arts</td>\n",
              "      <td>64.00</td>\n",
              "      <td>Comm&amp;Mgmt</td>\n",
              "      <td>No</td>\n",
              "      <td>75.0</td>\n",
              "      <td>Mkt&amp;Fin</td>\n",
              "      <td>57.80</td>\n",
              "      <td>Placed</td>\n",
              "      <td>250000.0</td>\n",
              "    </tr>\n",
              "    <tr>\n",
              "      <th>3</th>\n",
              "      <td>4</td>\n",
              "      <td>M</td>\n",
              "      <td>56.00</td>\n",
              "      <td>Central</td>\n",
              "      <td>52.00</td>\n",
              "      <td>Central</td>\n",
              "      <td>Science</td>\n",
              "      <td>52.00</td>\n",
              "      <td>Sci&amp;Tech</td>\n",
              "      <td>No</td>\n",
              "      <td>66.0</td>\n",
              "      <td>Mkt&amp;HR</td>\n",
              "      <td>59.43</td>\n",
              "      <td>Not Placed</td>\n",
              "      <td>NaN</td>\n",
              "    </tr>\n",
              "    <tr>\n",
              "      <th>4</th>\n",
              "      <td>5</td>\n",
              "      <td>M</td>\n",
              "      <td>85.80</td>\n",
              "      <td>Central</td>\n",
              "      <td>73.60</td>\n",
              "      <td>Central</td>\n",
              "      <td>Commerce</td>\n",
              "      <td>73.30</td>\n",
              "      <td>Comm&amp;Mgmt</td>\n",
              "      <td>No</td>\n",
              "      <td>96.8</td>\n",
              "      <td>Mkt&amp;Fin</td>\n",
              "      <td>55.50</td>\n",
              "      <td>Placed</td>\n",
              "      <td>425000.0</td>\n",
              "    </tr>\n",
              "  </tbody>\n",
              "</table>\n",
              "</div>"
            ],
            "text/plain": [
              "   sl_no gender  ssc_p    ssc_b  ...  specialisation  mba_p      status    salary\n",
              "0      1      M  67.00   Others  ...          Mkt&HR  58.80      Placed  270000.0\n",
              "1      2      M  79.33  Central  ...         Mkt&Fin  66.28      Placed  200000.0\n",
              "2      3      M  65.00  Central  ...         Mkt&Fin  57.80      Placed  250000.0\n",
              "3      4      M  56.00  Central  ...          Mkt&HR  59.43  Not Placed       NaN\n",
              "4      5      M  85.80  Central  ...         Mkt&Fin  55.50      Placed  425000.0\n",
              "\n",
              "[5 rows x 15 columns]"
            ]
          },
          "metadata": {},
          "execution_count": 56
        }
      ]
    },
    {
      "cell_type": "code",
      "metadata": {
        "colab": {
          "base_uri": "https://localhost:8080/"
        },
        "id": "WO7FB2UX_4Jk",
        "outputId": "43206b98-a05b-426a-b790-e0f915fb9a18"
      },
      "source": [
        "placement_df.shape"
      ],
      "execution_count": 57,
      "outputs": [
        {
          "output_type": "execute_result",
          "data": {
            "text/plain": [
              "(215, 15)"
            ]
          },
          "metadata": {},
          "execution_count": 57
        }
      ]
    },
    {
      "cell_type": "code",
      "metadata": {
        "colab": {
          "base_uri": "https://localhost:8080/"
        },
        "id": "sL7sAsqa_gMd",
        "outputId": "ecf5db66-b8bd-4416-baf1-c1dfbc89f4be"
      },
      "source": [
        "placement_df.columns"
      ],
      "execution_count": 58,
      "outputs": [
        {
          "output_type": "execute_result",
          "data": {
            "text/plain": [
              "Index(['sl_no', 'gender', 'ssc_p', 'ssc_b', 'hsc_p', 'hsc_b', 'hsc_s',\n",
              "       'degree_p', 'degree_t', 'workex', 'etest_p', 'specialisation', 'mba_p',\n",
              "       'status', 'salary'],\n",
              "      dtype='object')"
            ]
          },
          "metadata": {},
          "execution_count": 58
        }
      ]
    },
    {
      "cell_type": "markdown",
      "metadata": {
        "id": "5MevRxat8-N8"
      },
      "source": [
        "There are 15 columns in the dataset which are\n",
        "\n",
        "Gender : Male-M, Female-F - gender\n",
        "\n",
        "Secondary Education percentage- 10th Grade - ssc_p\n",
        "\n",
        "Board of Education- Central/ Others - ssc_b\n",
        "\n",
        "Higher Secondary Education percentage- 12th Grade - hsc_p\n",
        "\n",
        "Board of Education- Central/ Others - hsc_b\n",
        "\n",
        "Specialization in Higher Secondary Education - hsc_s\n",
        "\n",
        "Degree Percentage - degree_p\n",
        "\n",
        "Under Graduation(Degree type) - Field of degree education - degree_t\n",
        "\n",
        "Work Experience - work_ex\n",
        "\n",
        "Employability test percentage ( conducted by college) - etest_p\n",
        "\n",
        "Post Graduation(MBA)- Specialization - specialisation\n",
        "\n",
        "MBA percentage - mba_p\n",
        "\n",
        "Status of placement- Placed/Not placed - status\n",
        "\n",
        "Salary offered by corporate to candidates - salary."
      ]
    },
    {
      "cell_type": "code",
      "metadata": {
        "colab": {
          "base_uri": "https://localhost:8080/"
        },
        "id": "s074bmnt8s1k",
        "outputId": "53702ea3-7966-4077-ad47-4364fce683ed"
      },
      "source": [
        "placement_df.info()"
      ],
      "execution_count": 59,
      "outputs": [
        {
          "output_type": "stream",
          "name": "stdout",
          "text": [
            "<class 'pandas.core.frame.DataFrame'>\n",
            "RangeIndex: 215 entries, 0 to 214\n",
            "Data columns (total 15 columns):\n",
            " #   Column          Non-Null Count  Dtype  \n",
            "---  ------          --------------  -----  \n",
            " 0   sl_no           215 non-null    int64  \n",
            " 1   gender          215 non-null    object \n",
            " 2   ssc_p           215 non-null    float64\n",
            " 3   ssc_b           215 non-null    object \n",
            " 4   hsc_p           215 non-null    float64\n",
            " 5   hsc_b           215 non-null    object \n",
            " 6   hsc_s           215 non-null    object \n",
            " 7   degree_p        215 non-null    float64\n",
            " 8   degree_t        215 non-null    object \n",
            " 9   workex          215 non-null    object \n",
            " 10  etest_p         215 non-null    float64\n",
            " 11  specialisation  215 non-null    object \n",
            " 12  mba_p           215 non-null    float64\n",
            " 13  status          215 non-null    object \n",
            " 14  salary          148 non-null    float64\n",
            "dtypes: float64(6), int64(1), object(8)\n",
            "memory usage: 25.3+ KB\n"
          ]
        }
      ]
    },
    {
      "cell_type": "code",
      "metadata": {
        "colab": {
          "base_uri": "https://localhost:8080/",
          "height": 296
        },
        "id": "ofdqmi0x_Ufm",
        "outputId": "fd88260d-dbab-4141-e3d5-bc83ad8a23e6"
      },
      "source": [
        "placement_df.describe()"
      ],
      "execution_count": 60,
      "outputs": [
        {
          "output_type": "execute_result",
          "data": {
            "text/html": [
              "<div>\n",
              "<style scoped>\n",
              "    .dataframe tbody tr th:only-of-type {\n",
              "        vertical-align: middle;\n",
              "    }\n",
              "\n",
              "    .dataframe tbody tr th {\n",
              "        vertical-align: top;\n",
              "    }\n",
              "\n",
              "    .dataframe thead th {\n",
              "        text-align: right;\n",
              "    }\n",
              "</style>\n",
              "<table border=\"1\" class=\"dataframe\">\n",
              "  <thead>\n",
              "    <tr style=\"text-align: right;\">\n",
              "      <th></th>\n",
              "      <th>sl_no</th>\n",
              "      <th>ssc_p</th>\n",
              "      <th>hsc_p</th>\n",
              "      <th>degree_p</th>\n",
              "      <th>etest_p</th>\n",
              "      <th>mba_p</th>\n",
              "      <th>salary</th>\n",
              "    </tr>\n",
              "  </thead>\n",
              "  <tbody>\n",
              "    <tr>\n",
              "      <th>count</th>\n",
              "      <td>215.000000</td>\n",
              "      <td>215.000000</td>\n",
              "      <td>215.000000</td>\n",
              "      <td>215.000000</td>\n",
              "      <td>215.000000</td>\n",
              "      <td>215.000000</td>\n",
              "      <td>148.000000</td>\n",
              "    </tr>\n",
              "    <tr>\n",
              "      <th>mean</th>\n",
              "      <td>108.000000</td>\n",
              "      <td>67.303395</td>\n",
              "      <td>66.333163</td>\n",
              "      <td>66.370186</td>\n",
              "      <td>72.100558</td>\n",
              "      <td>62.278186</td>\n",
              "      <td>288655.405405</td>\n",
              "    </tr>\n",
              "    <tr>\n",
              "      <th>std</th>\n",
              "      <td>62.209324</td>\n",
              "      <td>10.827205</td>\n",
              "      <td>10.897509</td>\n",
              "      <td>7.358743</td>\n",
              "      <td>13.275956</td>\n",
              "      <td>5.833385</td>\n",
              "      <td>93457.452420</td>\n",
              "    </tr>\n",
              "    <tr>\n",
              "      <th>min</th>\n",
              "      <td>1.000000</td>\n",
              "      <td>40.890000</td>\n",
              "      <td>37.000000</td>\n",
              "      <td>50.000000</td>\n",
              "      <td>50.000000</td>\n",
              "      <td>51.210000</td>\n",
              "      <td>200000.000000</td>\n",
              "    </tr>\n",
              "    <tr>\n",
              "      <th>25%</th>\n",
              "      <td>54.500000</td>\n",
              "      <td>60.600000</td>\n",
              "      <td>60.900000</td>\n",
              "      <td>61.000000</td>\n",
              "      <td>60.000000</td>\n",
              "      <td>57.945000</td>\n",
              "      <td>240000.000000</td>\n",
              "    </tr>\n",
              "    <tr>\n",
              "      <th>50%</th>\n",
              "      <td>108.000000</td>\n",
              "      <td>67.000000</td>\n",
              "      <td>65.000000</td>\n",
              "      <td>66.000000</td>\n",
              "      <td>71.000000</td>\n",
              "      <td>62.000000</td>\n",
              "      <td>265000.000000</td>\n",
              "    </tr>\n",
              "    <tr>\n",
              "      <th>75%</th>\n",
              "      <td>161.500000</td>\n",
              "      <td>75.700000</td>\n",
              "      <td>73.000000</td>\n",
              "      <td>72.000000</td>\n",
              "      <td>83.500000</td>\n",
              "      <td>66.255000</td>\n",
              "      <td>300000.000000</td>\n",
              "    </tr>\n",
              "    <tr>\n",
              "      <th>max</th>\n",
              "      <td>215.000000</td>\n",
              "      <td>89.400000</td>\n",
              "      <td>97.700000</td>\n",
              "      <td>91.000000</td>\n",
              "      <td>98.000000</td>\n",
              "      <td>77.890000</td>\n",
              "      <td>940000.000000</td>\n",
              "    </tr>\n",
              "  </tbody>\n",
              "</table>\n",
              "</div>"
            ],
            "text/plain": [
              "            sl_no       ssc_p  ...       mba_p         salary\n",
              "count  215.000000  215.000000  ...  215.000000     148.000000\n",
              "mean   108.000000   67.303395  ...   62.278186  288655.405405\n",
              "std     62.209324   10.827205  ...    5.833385   93457.452420\n",
              "min      1.000000   40.890000  ...   51.210000  200000.000000\n",
              "25%     54.500000   60.600000  ...   57.945000  240000.000000\n",
              "50%    108.000000   67.000000  ...   62.000000  265000.000000\n",
              "75%    161.500000   75.700000  ...   66.255000  300000.000000\n",
              "max    215.000000   89.400000  ...   77.890000  940000.000000\n",
              "\n",
              "[8 rows x 7 columns]"
            ]
          },
          "metadata": {},
          "execution_count": 60
        }
      ]
    },
    {
      "cell_type": "markdown",
      "metadata": {
        "id": "HkwwWs52bLgN"
      },
      "source": [
        "**Cleaning the data.**"
      ]
    },
    {
      "cell_type": "code",
      "metadata": {
        "colab": {
          "base_uri": "https://localhost:8080/"
        },
        "id": "Bu6lzoSNACQu",
        "outputId": "c5229523-5630-496e-fb83-bb567507b4a3"
      },
      "source": [
        "placement_df.isnull().sum()"
      ],
      "execution_count": 61,
      "outputs": [
        {
          "output_type": "execute_result",
          "data": {
            "text/plain": [
              "sl_no              0\n",
              "gender             0\n",
              "ssc_p              0\n",
              "ssc_b              0\n",
              "hsc_p              0\n",
              "hsc_b              0\n",
              "hsc_s              0\n",
              "degree_p           0\n",
              "degree_t           0\n",
              "workex             0\n",
              "etest_p            0\n",
              "specialisation     0\n",
              "mba_p              0\n",
              "status             0\n",
              "salary            67\n",
              "dtype: int64"
            ]
          },
          "metadata": {},
          "execution_count": 61
        }
      ]
    },
    {
      "cell_type": "markdown",
      "metadata": {
        "id": "RssI40aXGp86"
      },
      "source": [
        "**Handling with categorical data.**"
      ]
    },
    {
      "cell_type": "code",
      "metadata": {
        "colab": {
          "base_uri": "https://localhost:8080/"
        },
        "id": "oOIP18ikDv61",
        "outputId": "845a4d5e-647e-47e2-c1bf-9d48cc1730d8"
      },
      "source": [
        "placement_df[\"gender\"] = placement_df[\"gender\"].astype('category')\n",
        "placement_df[\"ssc_b\"] = placement_df[\"ssc_b\"].astype('category')\n",
        "placement_df[\"hsc_b\"] = placement_df[\"hsc_b\"].astype('category')\n",
        "placement_df[\"degree_t\"] = placement_df[\"degree_t\"].astype('category')\n",
        "placement_df[\"workex\"] = placement_df[\"workex\"].astype('category')\n",
        "placement_df[\"specialisation\"] = placement_df[\"specialisation\"].astype('category')\n",
        "placement_df[\"status\"] = placement_df[\"status\"].astype('category')\n",
        "placement_df[\"hsc_s\"] = placement_df[\"hsc_s\"].astype('category')\n",
        "placement_df.dtypes"
      ],
      "execution_count": 84,
      "outputs": [
        {
          "output_type": "execute_result",
          "data": {
            "text/plain": [
              "gender            category\n",
              "ssc_p              float64\n",
              "ssc_b             category\n",
              "hsc_p              float64\n",
              "hsc_b             category\n",
              "hsc_s             category\n",
              "degree_p           float64\n",
              "degree_t          category\n",
              "workex            category\n",
              "etest_p            float64\n",
              "specialisation    category\n",
              "mba_p              float64\n",
              "status            category\n",
              "dtype: object"
            ]
          },
          "metadata": {},
          "execution_count": 84
        }
      ]
    },
    {
      "cell_type": "markdown",
      "metadata": {
        "id": "LKwCBKPVcRFs"
      },
      "source": [
        "**Calculating the number of students.**"
      ]
    },
    {
      "cell_type": "code",
      "metadata": {
        "colab": {
          "base_uri": "https://localhost:8080/",
          "height": 386
        },
        "id": "t-EXAvOGcHUY",
        "outputId": "907b0e66-5543-4b0e-d41d-a084274f478a"
      },
      "source": [
        "print(\"Number of male students: \", len(placement_df[placement_df.gender=='M']))\n",
        "print(\"Number of female students: \", len(placement_df[placement_df.gender=='F']))\n",
        "sns.countplot('gender', data=placement_df);\n",
        "plt.title(\"Gender distribution\");"
      ],
      "execution_count": 63,
      "outputs": [
        {
          "output_type": "stream",
          "name": "stdout",
          "text": [
            "Number of male students:  139\n",
            "Number of female students:  76\n"
          ]
        },
        {
          "output_type": "stream",
          "name": "stderr",
          "text": [
            "/usr/local/lib/python3.7/dist-packages/seaborn/_decorators.py:43: FutureWarning: Pass the following variable as a keyword arg: x. From version 0.12, the only valid positional argument will be `data`, and passing other arguments without an explicit keyword will result in an error or misinterpretation.\n",
            "  FutureWarning\n"
          ]
        },
        {
          "output_type": "display_data",
          "data": {
            "image/png": "[encoded data removed]",
            "text/plain": [
              "<Figure size 432x288 with 1 Axes>"
            ]
          },
          "metadata": {
            "needs_background": "light"
          }
        }
      ]
    },
    {
      "cell_type": "code",
      "metadata": {
        "id": "M4IKyQDJez-P"
      },
      "source": [
        "male = placement_df[placement_df.gender=='M']\n",
        "female = placement_df[placement_df.gender=='F']"
      ],
      "execution_count": 64,
      "outputs": []
    },
    {
      "cell_type": "markdown",
      "metadata": {
        "id": "eZeGnXj4ZeEm"
      },
      "source": [
        "**Secondary Education Percentage**"
      ]
    },
    {
      "cell_type": "code",
      "metadata": {
        "colab": {
          "base_uri": "https://localhost:8080/",
          "height": 336
        },
        "id": "uzvX9aSJk0u2",
        "outputId": "b9d2857a-e01e-4a02-c9fd-bd266b51c7f1"
      },
      "source": [
        "plt.hist([male.ssc_p, female.ssc_p], stacked = True, rwidth = 0.9);\n",
        "plt.title(\"Secondary Education Percentage of male and female\")\n",
        "plt.legend(['Male','Female']);"
      ],
      "execution_count": 65,
      "outputs": [
        {
          "output_type": "stream",
          "name": "stderr",
          "text": [
            "/usr/local/lib/python3.7/dist-packages/numpy/core/_asarray.py:83: VisibleDeprecationWarning: Creating an ndarray from ragged nested sequences (which is a list-or-tuple of lists-or-tuples-or ndarrays with different lengths or shapes) is deprecated. If you meant to do this, you must specify 'dtype=object' when creating the ndarray\n",
            "  return array(a, dtype, copy=False, order=order)\n"
          ]
        },
        {
          "output_type": "display_data",
          "data": {
            "image/png": "[encoded data removed]",
            "text/plain": [
              "<Figure size 432x288 with 1 Axes>"
            ]
          },
          "metadata": {
            "needs_background": "light"
          }
        }
      ]
    },
    {
      "cell_type": "markdown",
      "metadata": {
        "id": "VjAq3tbvZlGN"
      },
      "source": [
        "**Higher Secondary Education Percentage**"
      ]
    },
    {
      "cell_type": "code",
      "metadata": {
        "id": "aNvm7hTZ67yA",
        "colab": {
          "base_uri": "https://localhost:8080/",
          "height": 336
        },
        "outputId": "55bb7626-2d52-4a31-a557-2d488431052e"
      },
      "source": [
        "plt.hist([male.hsc_p, female.hsc_p], stacked = True, rwidth = 0.9);\n",
        "plt.title(\"Higher Secondary Education Percentage of male and female\")\n",
        "plt.legend(['Male','Female']);"
      ],
      "execution_count": 66,
      "outputs": [
        {
          "output_type": "stream",
          "name": "stderr",
          "text": [
            "/usr/local/lib/python3.7/dist-packages/numpy/core/_asarray.py:83: VisibleDeprecationWarning: Creating an ndarray from ragged nested sequences (which is a list-or-tuple of lists-or-tuples-or ndarrays with different lengths or shapes) is deprecated. If you meant to do this, you must specify 'dtype=object' when creating the ndarray\n",
            "  return array(a, dtype, copy=False, order=order)\n"
          ]
        },
        {
          "output_type": "display_data",
          "data": {
            "image/png": "[encoded data removed]",
            "text/plain": [
              "<Figure size 432x288 with 1 Axes>"
            ]
          },
          "metadata": {
            "needs_background": "light"
          }
        }
      ]
    },
    {
      "cell_type": "markdown",
      "metadata": {
        "id": "b4tIy1VHZrkn"
      },
      "source": [
        "**Degree Percentage**"
      ]
    },
    {
      "cell_type": "code",
      "metadata": {
        "colab": {
          "base_uri": "https://localhost:8080/",
          "height": 336
        },
        "id": "dSDSTxgV3uHS",
        "outputId": "b9a822d8-ed62-46f8-e4d4-504f912419e4"
      },
      "source": [
        "plt.hist([male.degree_p, female.degree_p], stacked = True, rwidth = 0.9);\n",
        "plt.title(\"Degree Percentage of male and female\")\n",
        "plt.legend(['Male','Female']);"
      ],
      "execution_count": 67,
      "outputs": [
        {
          "output_type": "stream",
          "name": "stderr",
          "text": [
            "/usr/local/lib/python3.7/dist-packages/numpy/core/_asarray.py:83: VisibleDeprecationWarning: Creating an ndarray from ragged nested sequences (which is a list-or-tuple of lists-or-tuples-or ndarrays with different lengths or shapes) is deprecated. If you meant to do this, you must specify 'dtype=object' when creating the ndarray\n",
            "  return array(a, dtype, copy=False, order=order)\n"
          ]
        },
        {
          "output_type": "display_data",
          "data": {
            "image/png": "[encoded data removed]",
            "text/plain": [
              "<Figure size 432x288 with 1 Axes>"
            ]
          },
          "metadata": {
            "needs_background": "light"
          }
        }
      ]
    },
    {
      "cell_type": "markdown",
      "metadata": {
        "id": "2KaJj6C5ZvWS"
      },
      "source": [
        "**MBA percentage**"
      ]
    },
    {
      "cell_type": "code",
      "metadata": {
        "colab": {
          "base_uri": "https://localhost:8080/",
          "height": 336
        },
        "id": "jgaKD3NN4PdY",
        "outputId": "ce4440b9-b7f7-435d-9977-ddef82338a8e"
      },
      "source": [
        "plt.hist([male.mba_p, female.mba_p], stacked = True, rwidth = 0.9);\n",
        "plt.title(\"MBA Percentage of male and female\")\n",
        "plt.legend(['Male','Female']);"
      ],
      "execution_count": 68,
      "outputs": [
        {
          "output_type": "stream",
          "name": "stderr",
          "text": [
            "/usr/local/lib/python3.7/dist-packages/numpy/core/_asarray.py:83: VisibleDeprecationWarning: Creating an ndarray from ragged nested sequences (which is a list-or-tuple of lists-or-tuples-or ndarrays with different lengths or shapes) is deprecated. If you meant to do this, you must specify 'dtype=object' when creating the ndarray\n",
            "  return array(a, dtype, copy=False, order=order)\n"
          ]
        },
        {
          "output_type": "display_data",
          "data": {
            "image/png": "[encoded data removed]",
            "text/plain": [
              "<Figure size 432x288 with 1 Axes>"
            ]
          },
          "metadata": {
            "needs_background": "light"
          }
        }
      ]
    },
    {
      "cell_type": "markdown",
      "metadata": {
        "id": "LUzJi1eGZy14"
      },
      "source": [
        "**Percentage distribution among male**"
      ]
    },
    {
      "cell_type": "code",
      "metadata": {
        "id": "Xo1wbE364ZVg",
        "colab": {
          "base_uri": "https://localhost:8080/",
          "height": 299
        },
        "outputId": "abde8b3d-ec04-471b-f745-19f098cdf393"
      },
      "source": [
        "plt.hist([male.ssc_p, male.hsc_p, male.degree_p, male.mba_p], stacked = True, rwidth = 0.9);\n",
        "\n",
        "plt.title('Percentage of secondary, higher secondary and degree among male')\n",
        "\n",
        "plt.legend(['Secondary', 'Higher secondary','Degree', 'MBA'])"
      ],
      "execution_count": 69,
      "outputs": [
        {
          "output_type": "execute_result",
          "data": {
            "text/plain": [
              "<matplotlib.legend.Legend at 0x7f82534206d0>"
            ]
          },
          "metadata": {},
          "execution_count": 69
        },
        {
          "output_type": "display_data",
          "data": {
            "image/png": "[encoded data removed]",
            "text/plain": [
              "<Figure size 432x288 with 1 Axes>"
            ]
          },
          "metadata": {
            "needs_background": "light"
          }
        }
      ]
    },
    {
      "cell_type": "markdown",
      "metadata": {
        "id": "1vNMrzMJZ8sO"
      },
      "source": [
        "**Percentage distribution among female**"
      ]
    },
    {
      "cell_type": "code",
      "metadata": {
        "colab": {
          "base_uri": "https://localhost:8080/",
          "height": 299
        },
        "id": "QCdg1oP2dQqh",
        "outputId": "48cfd107-8121-4176-a850-634242b85247"
      },
      "source": [
        "plt.hist([female.ssc_p, female.hsc_p, female.degree_p, female.mba_p], stacked = True, rwidth = 0.9);\n",
        "\n",
        "plt.title('Percentage of secondary, higher secondary and degree among female')\n",
        "\n",
        "plt.legend(['Secondary', 'Higher secondary','Degree', 'MBA'])"
      ],
      "execution_count": 70,
      "outputs": [
        {
          "output_type": "execute_result",
          "data": {
            "text/plain": [
              "<matplotlib.legend.Legend at 0x7f8253231f10>"
            ]
          },
          "metadata": {},
          "execution_count": 70
        },
        {
          "output_type": "display_data",
          "data": {
            "image/png": "[encoded data removed]",
            "text/plain": [
              "<Figure size 432x288 with 1 Axes>"
            ]
          },
          "metadata": {
            "needs_background": "light"
          }
        }
      ]
    },
    {
      "cell_type": "code",
      "metadata": {
        "colab": {
          "base_uri": "https://localhost:8080/",
          "height": 368
        },
        "id": "OW5M8mm8eJGq",
        "outputId": "a0e1af3c-8eea-4232-e95a-ec4c84ec6852"
      },
      "source": [
        "print(\"There are {} students with work experience and {} without work experience: \".format(len(placement_df[placement_df.workex=='Yes']),len(placement_df[placement_df.workex=='No'])))\n",
        "campus = sns.countplot('workex', hue = placement_df.gender, data = placement_df);\n",
        "totals = []\n",
        "\n",
        "# finding the values and appending to list\n",
        "for i in campus.patches:\n",
        "    totals.append(i.get_height())\n",
        "\n",
        "total = sum(totals)\n",
        "\n",
        "for i in campus.patches:\n",
        "    campus.text(i.get_x()--.1, i.get_height()+.5,\n",
        "            str(round(i.get_height(), 2)), fontsize=15,\n",
        "                color='red')\n",
        "    \n",
        "plt.title(\"Work Experience \");\n"
      ],
      "execution_count": 71,
      "outputs": [
        {
          "output_type": "stream",
          "name": "stdout",
          "text": [
            "There are 74 students with work experience and 141 without work experience: \n"
          ]
        },
        {
          "output_type": "stream",
          "name": "stderr",
          "text": [
            "/usr/local/lib/python3.7/dist-packages/seaborn/_decorators.py:43: FutureWarning: Pass the following variable as a keyword arg: x. From version 0.12, the only valid positional argument will be `data`, and passing other arguments without an explicit keyword will result in an error or misinterpretation.\n",
            "  FutureWarning\n"
          ]
        },
        {
          "output_type": "display_data",
          "data": {
            "image/png": "[encoded data removed]",
            "text/plain": [
              "<Figure size 432x288 with 1 Axes>"
            ]
          },
          "metadata": {
            "needs_background": "light"
          }
        }
      ]
    },
    {
      "cell_type": "markdown",
      "metadata": {
        "id": "GrdmNYvS2g92"
      },
      "source": [
        "**Students placed depending on their specialization in higher secondary education.**"
      ]
    },
    {
      "cell_type": "code",
      "metadata": {
        "colab": {
          "base_uri": "https://localhost:8080/",
          "height": 352
        },
        "id": "rn8txnOPxS6u",
        "outputId": "e0c97ccb-0be8-49e1-e000-a0fc9eb6da1a"
      },
      "source": [
        "campus1 = sns.countplot('hsc_s', hue = placement_df.status, data = placement_df);\n",
        "totals = []\n",
        "\n",
        "for i in campus1.patches:\n",
        "    totals.append(i.get_height())\n",
        "\n",
        "total = sum(totals)\n",
        "\n",
        "for i in campus1.patches:\n",
        "    campus1.text(i.get_x()--.1, i.get_height()+.5,str(round(i.get_height(), 2)),fontsize=15,color='green')\n",
        "\n",
        "plt.title(\"Placement status and Higher Secondary specialization\");"
      ],
      "execution_count": 72,
      "outputs": [
        {
          "output_type": "stream",
          "name": "stderr",
          "text": [
            "/usr/local/lib/python3.7/dist-packages/seaborn/_decorators.py:43: FutureWarning: Pass the following variable as a keyword arg: x. From version 0.12, the only valid positional argument will be `data`, and passing other arguments without an explicit keyword will result in an error or misinterpretation.\n",
            "  FutureWarning\n"
          ]
        },
        {
          "output_type": "display_data",
          "data": {
            "image/png": "[encoded data removed]",
            "text/plain": [
              "<Figure size 432x288 with 1 Axes>"
            ]
          },
          "metadata": {
            "needs_background": "light"
          }
        }
      ]
    },
    {
      "cell_type": "markdown",
      "metadata": {
        "id": "07Ze932V4c0j"
      },
      "source": [
        "**Students being palced based on their field of degree education.**"
      ]
    },
    {
      "cell_type": "code",
      "metadata": {
        "colab": {
          "base_uri": "https://localhost:8080/",
          "height": 352
        },
        "id": "jzEswksh3cB3",
        "outputId": "aa3b6f26-0ecb-4159-90b8-14be15d66238"
      },
      "source": [
        "campus2 = sns.countplot('degree_t', hue = placement_df.status, data = placement_df);\n",
        "totals = []\n",
        "\n",
        "for i in campus2.patches:\n",
        "    totals.append(i.get_height())\n",
        "\n",
        "total = sum(totals)\n",
        "\n",
        "for i in campus2.patches:\n",
        "    campus2.text(i.get_x()--.1, i.get_height()+.5,\n",
        "            str(round(i.get_height(), 2)), fontsize=15,\n",
        "                color='red')\n",
        "\n",
        "plt.title(\"Placement status and degree specialization\");"
      ],
      "execution_count": 73,
      "outputs": [
        {
          "output_type": "stream",
          "name": "stderr",
          "text": [
            "/usr/local/lib/python3.7/dist-packages/seaborn/_decorators.py:43: FutureWarning: Pass the following variable as a keyword arg: x. From version 0.12, the only valid positional argument will be `data`, and passing other arguments without an explicit keyword will result in an error or misinterpretation.\n",
            "  FutureWarning\n"
          ]
        },
        {
          "output_type": "display_data",
          "data": {
            "image/png": "[encoded data removed]",
            "text/plain": [
              "<Figure size 432x288 with 1 Axes>"
            ]
          },
          "metadata": {
            "needs_background": "light"
          }
        }
      ]
    },
    {
      "cell_type": "markdown",
      "metadata": {
        "id": "oxhuygj76WVN"
      },
      "source": [
        "**Students being placed depending on their MBA specialization.**"
      ]
    },
    {
      "cell_type": "code",
      "metadata": {
        "colab": {
          "base_uri": "https://localhost:8080/",
          "height": 351
        },
        "id": "7ffkRiGI4zcQ",
        "outputId": "cb778b11-d825-4867-8fd8-bf876971b746"
      },
      "source": [
        "campus3 = sns.countplot('specialisation', hue = placement_df.status, data = placement_df);\n",
        "totals = []\n",
        "\n",
        "for i in campus3.patches:\n",
        "    totals.append(i.get_height())\n",
        "\n",
        "total = sum(totals)\n",
        "\n",
        "for i in campus3.patches:\n",
        "    campus3.text(i.get_x()--.1, i.get_height()+.5, \\\n",
        "            str(round(i.get_height(), 2)), fontsize=15,\n",
        "                color='red')\n",
        "\n",
        "plt.title(\"Placement status and MBA specialization\");"
      ],
      "execution_count": 74,
      "outputs": [
        {
          "output_type": "stream",
          "name": "stderr",
          "text": [
            "/usr/local/lib/python3.7/dist-packages/seaborn/_decorators.py:43: FutureWarning: Pass the following variable as a keyword arg: x. From version 0.12, the only valid positional argument will be `data`, and passing other arguments without an explicit keyword will result in an error or misinterpretation.\n",
            "  FutureWarning\n"
          ]
        },
        {
          "output_type": "display_data",
          "data": {
            "image/png": "[encoded data removed]",
            "text/plain": [
              "<Figure size 432x288 with 1 Axes>"
            ]
          },
          "metadata": {
            "needs_background": "light"
          }
        }
      ]
    },
    {
      "cell_type": "markdown",
      "metadata": {
        "id": "oBGtOiI97zEa"
      },
      "source": [
        "**Relation between work experience and placement status.** "
      ]
    },
    {
      "cell_type": "code",
      "metadata": {
        "colab": {
          "base_uri": "https://localhost:8080/",
          "height": 351
        },
        "id": "w0VVpSA37kTS",
        "outputId": "f52dd584-5ee2-4a55-d4ed-c9cf65151de4"
      },
      "source": [
        "campus4 = sns.countplot('workex', hue = placement_df.status, data = placement_df);\n",
        "totals = []\n",
        "\n",
        "for i in campus4.patches:\n",
        "    totals.append(i.get_height())\n",
        "\n",
        "total = sum(totals)\n",
        "\n",
        "for i in campus4.patches:\n",
        "    campus4.text(i.get_x()--.1, i.get_height()+.5, \\\n",
        "            str(round(i.get_height(), 2)), fontsize=15,\n",
        "                color='red')\n",
        "    \n",
        "plt.title(\"Placement status and Work experience\");"
      ],
      "execution_count": 75,
      "outputs": [
        {
          "output_type": "stream",
          "name": "stderr",
          "text": [
            "/usr/local/lib/python3.7/dist-packages/seaborn/_decorators.py:43: FutureWarning: Pass the following variable as a keyword arg: x. From version 0.12, the only valid positional argument will be `data`, and passing other arguments without an explicit keyword will result in an error or misinterpretation.\n",
            "  FutureWarning\n"
          ]
        },
        {
          "output_type": "display_data",
          "data": {
            "image/png": "[encoded data removed]",
            "text/plain": [
              "<Figure size 432x288 with 1 Axes>"
            ]
          },
          "metadata": {
            "needs_background": "light"
          }
        }
      ]
    },
    {
      "cell_type": "markdown",
      "metadata": {
        "id": "oHhos8lTCT_f"
      },
      "source": [
        "**Dropping the columns.**"
      ]
    },
    {
      "cell_type": "code",
      "metadata": {
        "id": "NjJ3PO7rSxmS"
      },
      "source": [
        "placement_df = placement_df.drop('sl_no', axis=1)\n",
        "placement_df = placement_df.drop('salary', axis=1)"
      ],
      "execution_count": 82,
      "outputs": []
    },
    {
      "cell_type": "markdown",
      "metadata": {
        "id": "vvnVnO23TLIA"
      },
      "source": [
        "**Converting the columns text values into numerical values.**"
      ]
    },
    {
      "cell_type": "code",
      "metadata": {
        "colab": {
          "base_uri": "https://localhost:8080/",
          "height": 418
        },
        "id": "-ugbgdw-Ryg8",
        "outputId": "65e0cce8-cda9-474d-db05-316318fa539f"
      },
      "source": [
        "placement_df[\"gender\"] = placement_df[\"gender\"].cat.codes\n",
        "placement_df[\"ssc_b\"] = placement_df[\"ssc_b\"].cat.codes\n",
        "placement_df[\"hsc_b\"] = placement_df[\"hsc_b\"].cat.codes\n",
        "placement_df[\"degree_t\"] = placement_df[\"degree_t\"].cat.codes\n",
        "placement_df[\"workex\"] = placement_df[\"workex\"].cat.codes\n",
        "placement_df[\"specialisation\"] = placement_df[\"specialisation\"].cat.codes\n",
        "placement_df[\"status\"] = placement_df[\"status\"].cat.codes\n",
        "placement_df[\"hsc_s\"] = placement_df[\"hsc_s\"].cat.codes\n",
        " \n",
        "# display dataset\n",
        "placement_df"
      ],
      "execution_count": 85,
      "outputs": [
        {
          "output_type": "execute_result",
          "data": {
            "text/html": [
              "<div>\n",
              "<style scoped>\n",
              "    .dataframe tbody tr th:only-of-type {\n",
              "        vertical-align: middle;\n",
              "    }\n",
              "\n",
              "    .dataframe tbody tr th {\n",
              "        vertical-align: top;\n",
              "    }\n",
              "\n",
              "    .dataframe thead th {\n",
              "        text-align: right;\n",
              "    }\n",
              "</style>\n",
              "<table border=\"1\" class=\"dataframe\">\n",
              "  <thead>\n",
              "    <tr style=\"text-align: right;\">\n",
              "      <th></th>\n",
              "      <th>gender</th>\n",
              "      <th>ssc_p</th>\n",
              "      <th>ssc_b</th>\n",
              "      <th>hsc_p</th>\n",
              "      <th>hsc_b</th>\n",
              "      <th>hsc_s</th>\n",
              "      <th>degree_p</th>\n",
              "      <th>degree_t</th>\n",
              "      <th>workex</th>\n",
              "      <th>etest_p</th>\n",
              "      <th>specialisation</th>\n",
              "      <th>mba_p</th>\n",
              "      <th>status</th>\n",
              "    </tr>\n",
              "  </thead>\n",
              "  <tbody>\n",
              "    <tr>\n",
              "      <th>0</th>\n",
              "      <td>1</td>\n",
              "      <td>67.00</td>\n",
              "      <td>1</td>\n",
              "      <td>91.00</td>\n",
              "      <td>1</td>\n",
              "      <td>1</td>\n",
              "      <td>58.00</td>\n",
              "      <td>2</td>\n",
              "      <td>0</td>\n",
              "      <td>55.0</td>\n",
              "      <td>1</td>\n",
              "      <td>58.80</td>\n",
              "      <td>1</td>\n",
              "    </tr>\n",
              "    <tr>\n",
              "      <th>1</th>\n",
              "      <td>1</td>\n",
              "      <td>79.33</td>\n",
              "      <td>0</td>\n",
              "      <td>78.33</td>\n",
              "      <td>1</td>\n",
              "      <td>2</td>\n",
              "      <td>77.48</td>\n",
              "      <td>2</td>\n",
              "      <td>1</td>\n",
              "      <td>86.5</td>\n",
              "      <td>0</td>\n",
              "      <td>66.28</td>\n",
              "      <td>1</td>\n",
              "    </tr>\n",
              "    <tr>\n",
              "      <th>2</th>\n",
              "      <td>1</td>\n",
              "      <td>65.00</td>\n",
              "      <td>0</td>\n",
              "      <td>68.00</td>\n",
              "      <td>0</td>\n",
              "      <td>0</td>\n",
              "      <td>64.00</td>\n",
              "      <td>0</td>\n",
              "      <td>0</td>\n",
              "      <td>75.0</td>\n",
              "      <td>0</td>\n",
              "      <td>57.80</td>\n",
              "      <td>1</td>\n",
              "    </tr>\n",
              "    <tr>\n",
              "      <th>3</th>\n",
              "      <td>1</td>\n",
              "      <td>56.00</td>\n",
              "      <td>0</td>\n",
              "      <td>52.00</td>\n",
              "      <td>0</td>\n",
              "      <td>2</td>\n",
              "      <td>52.00</td>\n",
              "      <td>2</td>\n",
              "      <td>0</td>\n",
              "      <td>66.0</td>\n",
              "      <td>1</td>\n",
              "      <td>59.43</td>\n",
              "      <td>0</td>\n",
              "    </tr>\n",
              "    <tr>\n",
              "      <th>4</th>\n",
              "      <td>1</td>\n",
              "      <td>85.80</td>\n",
              "      <td>0</td>\n",
              "      <td>73.60</td>\n",
              "      <td>0</td>\n",
              "      <td>1</td>\n",
              "      <td>73.30</td>\n",
              "      <td>0</td>\n",
              "      <td>0</td>\n",
              "      <td>96.8</td>\n",
              "      <td>0</td>\n",
              "      <td>55.50</td>\n",
              "      <td>1</td>\n",
              "    </tr>\n",
              "    <tr>\n",
              "      <th>...</th>\n",
              "      <td>...</td>\n",
              "      <td>...</td>\n",
              "      <td>...</td>\n",
              "      <td>...</td>\n",
              "      <td>...</td>\n",
              "      <td>...</td>\n",
              "      <td>...</td>\n",
              "      <td>...</td>\n",
              "      <td>...</td>\n",
              "      <td>...</td>\n",
              "      <td>...</td>\n",
              "      <td>...</td>\n",
              "      <td>...</td>\n",
              "    </tr>\n",
              "    <tr>\n",
              "      <th>210</th>\n",
              "      <td>1</td>\n",
              "      <td>80.60</td>\n",
              "      <td>1</td>\n",
              "      <td>82.00</td>\n",
              "      <td>1</td>\n",
              "      <td>1</td>\n",
              "      <td>77.60</td>\n",
              "      <td>0</td>\n",
              "      <td>0</td>\n",
              "      <td>91.0</td>\n",
              "      <td>0</td>\n",
              "      <td>74.49</td>\n",
              "      <td>1</td>\n",
              "    </tr>\n",
              "    <tr>\n",
              "      <th>211</th>\n",
              "      <td>1</td>\n",
              "      <td>58.00</td>\n",
              "      <td>1</td>\n",
              "      <td>60.00</td>\n",
              "      <td>1</td>\n",
              "      <td>2</td>\n",
              "      <td>72.00</td>\n",
              "      <td>2</td>\n",
              "      <td>0</td>\n",
              "      <td>74.0</td>\n",
              "      <td>0</td>\n",
              "      <td>53.62</td>\n",
              "      <td>1</td>\n",
              "    </tr>\n",
              "    <tr>\n",
              "      <th>212</th>\n",
              "      <td>1</td>\n",
              "      <td>67.00</td>\n",
              "      <td>1</td>\n",
              "      <td>67.00</td>\n",
              "      <td>1</td>\n",
              "      <td>1</td>\n",
              "      <td>73.00</td>\n",
              "      <td>0</td>\n",
              "      <td>1</td>\n",
              "      <td>59.0</td>\n",
              "      <td>0</td>\n",
              "      <td>69.72</td>\n",
              "      <td>1</td>\n",
              "    </tr>\n",
              "    <tr>\n",
              "      <th>213</th>\n",
              "      <td>0</td>\n",
              "      <td>74.00</td>\n",
              "      <td>1</td>\n",
              "      <td>66.00</td>\n",
              "      <td>1</td>\n",
              "      <td>1</td>\n",
              "      <td>58.00</td>\n",
              "      <td>0</td>\n",
              "      <td>0</td>\n",
              "      <td>70.0</td>\n",
              "      <td>1</td>\n",
              "      <td>60.23</td>\n",
              "      <td>1</td>\n",
              "    </tr>\n",
              "    <tr>\n",
              "      <th>214</th>\n",
              "      <td>1</td>\n",
              "      <td>62.00</td>\n",
              "      <td>0</td>\n",
              "      <td>58.00</td>\n",
              "      <td>1</td>\n",
              "      <td>2</td>\n",
              "      <td>53.00</td>\n",
              "      <td>0</td>\n",
              "      <td>0</td>\n",
              "      <td>89.0</td>\n",
              "      <td>1</td>\n",
              "      <td>60.22</td>\n",
              "      <td>0</td>\n",
              "    </tr>\n",
              "  </tbody>\n",
              "</table>\n",
              "<p>215 rows × 13 columns</p>\n",
              "</div>"
            ],
            "text/plain": [
              "     gender  ssc_p  ssc_b  hsc_p  ...  etest_p  specialisation  mba_p  status\n",
              "0         1  67.00      1  91.00  ...     55.0               1  58.80       1\n",
              "1         1  79.33      0  78.33  ...     86.5               0  66.28       1\n",
              "2         1  65.00      0  68.00  ...     75.0               0  57.80       1\n",
              "3         1  56.00      0  52.00  ...     66.0               1  59.43       0\n",
              "4         1  85.80      0  73.60  ...     96.8               0  55.50       1\n",
              "..      ...    ...    ...    ...  ...      ...             ...    ...     ...\n",
              "210       1  80.60      1  82.00  ...     91.0               0  74.49       1\n",
              "211       1  58.00      1  60.00  ...     74.0               0  53.62       1\n",
              "212       1  67.00      1  67.00  ...     59.0               0  69.72       1\n",
              "213       0  74.00      1  66.00  ...     70.0               1  60.23       1\n",
              "214       1  62.00      0  58.00  ...     89.0               1  60.22       0\n",
              "\n",
              "[215 rows x 13 columns]"
            ]
          },
          "metadata": {},
          "execution_count": 85
        }
      ]
    },
    {
      "cell_type": "markdown",
      "metadata": {
        "id": "IByTlHHcYopu"
      },
      "source": [
        "**Checking for Correlation.**"
      ]
    },
    {
      "cell_type": "code",
      "metadata": {
        "colab": {
          "base_uri": "https://localhost:8080/",
          "height": 451
        },
        "id": "Vy8YtboPX0jD",
        "outputId": "86c46aaf-7ac9-4da5-b50d-b41bb4b99238"
      },
      "source": [
        "placement_df.corr()"
      ],
      "execution_count": 106,
      "outputs": [
        {
          "output_type": "execute_result",
          "data": {
            "text/html": [
              "<div>\n",
              "<style scoped>\n",
              "    .dataframe tbody tr th:only-of-type {\n",
              "        vertical-align: middle;\n",
              "    }\n",
              "\n",
              "    .dataframe tbody tr th {\n",
              "        vertical-align: top;\n",
              "    }\n",
              "\n",
              "    .dataframe thead th {\n",
              "        text-align: right;\n",
              "    }\n",
              "</style>\n",
              "<table border=\"1\" class=\"dataframe\">\n",
              "  <thead>\n",
              "    <tr style=\"text-align: right;\">\n",
              "      <th></th>\n",
              "      <th>gender</th>\n",
              "      <th>ssc_p</th>\n",
              "      <th>ssc_b</th>\n",
              "      <th>hsc_p</th>\n",
              "      <th>hsc_b</th>\n",
              "      <th>hsc_s</th>\n",
              "      <th>degree_p</th>\n",
              "      <th>degree_t</th>\n",
              "      <th>workex</th>\n",
              "      <th>etest_p</th>\n",
              "      <th>specialisation</th>\n",
              "      <th>mba_p</th>\n",
              "      <th>status</th>\n",
              "    </tr>\n",
              "  </thead>\n",
              "  <tbody>\n",
              "    <tr>\n",
              "      <th>gender</th>\n",
              "      <td>1.000000</td>\n",
              "      <td>-0.068969</td>\n",
              "      <td>0.019429</td>\n",
              "      <td>-0.021334</td>\n",
              "      <td>0.065945</td>\n",
              "      <td>0.071827</td>\n",
              "      <td>-0.173217</td>\n",
              "      <td>0.061345</td>\n",
              "      <td>0.085153</td>\n",
              "      <td>0.084294</td>\n",
              "      <td>-0.106160</td>\n",
              "      <td>-0.300531</td>\n",
              "      <td>0.090670</td>\n",
              "    </tr>\n",
              "    <tr>\n",
              "      <th>ssc_p</th>\n",
              "      <td>-0.068969</td>\n",
              "      <td>1.000000</td>\n",
              "      <td>0.116194</td>\n",
              "      <td>0.511472</td>\n",
              "      <td>0.066996</td>\n",
              "      <td>0.236364</td>\n",
              "      <td>0.538404</td>\n",
              "      <td>0.205896</td>\n",
              "      <td>0.175675</td>\n",
              "      <td>0.261993</td>\n",
              "      <td>-0.172536</td>\n",
              "      <td>0.388478</td>\n",
              "      <td>0.607889</td>\n",
              "    </tr>\n",
              "    <tr>\n",
              "      <th>ssc_b</th>\n",
              "      <td>0.019429</td>\n",
              "      <td>0.116194</td>\n",
              "      <td>1.000000</td>\n",
              "      <td>-0.137013</td>\n",
              "      <td>0.605883</td>\n",
              "      <td>0.050919</td>\n",
              "      <td>0.038070</td>\n",
              "      <td>0.100863</td>\n",
              "      <td>-0.040744</td>\n",
              "      <td>-0.018991</td>\n",
              "      <td>-0.051565</td>\n",
              "      <td>0.083120</td>\n",
              "      <td>0.037297</td>\n",
              "    </tr>\n",
              "    <tr>\n",
              "      <th>hsc_p</th>\n",
              "      <td>-0.021334</td>\n",
              "      <td>0.511472</td>\n",
              "      <td>-0.137013</td>\n",
              "      <td>1.000000</td>\n",
              "      <td>-0.019548</td>\n",
              "      <td>-0.164091</td>\n",
              "      <td>0.434206</td>\n",
              "      <td>-0.086450</td>\n",
              "      <td>0.141025</td>\n",
              "      <td>0.245113</td>\n",
              "      <td>-0.241630</td>\n",
              "      <td>0.354823</td>\n",
              "      <td>0.491228</td>\n",
              "    </tr>\n",
              "    <tr>\n",
              "      <th>hsc_b</th>\n",
              "      <td>0.065945</td>\n",
              "      <td>0.066996</td>\n",
              "      <td>0.605883</td>\n",
              "      <td>-0.019548</td>\n",
              "      <td>1.000000</td>\n",
              "      <td>0.152227</td>\n",
              "      <td>0.067229</td>\n",
              "      <td>0.057960</td>\n",
              "      <td>0.038357</td>\n",
              "      <td>0.039108</td>\n",
              "      <td>0.002232</td>\n",
              "      <td>0.090201</td>\n",
              "      <td>0.016945</td>\n",
              "    </tr>\n",
              "    <tr>\n",
              "      <th>hsc_s</th>\n",
              "      <td>0.071827</td>\n",
              "      <td>0.236364</td>\n",
              "      <td>0.050919</td>\n",
              "      <td>-0.164091</td>\n",
              "      <td>0.152227</td>\n",
              "      <td>1.000000</td>\n",
              "      <td>0.137276</td>\n",
              "      <td>0.596300</td>\n",
              "      <td>0.007856</td>\n",
              "      <td>0.075643</td>\n",
              "      <td>0.172107</td>\n",
              "      <td>0.039345</td>\n",
              "      <td>0.033442</td>\n",
              "    </tr>\n",
              "    <tr>\n",
              "      <th>degree_p</th>\n",
              "      <td>-0.173217</td>\n",
              "      <td>0.538404</td>\n",
              "      <td>0.038070</td>\n",
              "      <td>0.434206</td>\n",
              "      <td>0.067229</td>\n",
              "      <td>0.137276</td>\n",
              "      <td>1.000000</td>\n",
              "      <td>0.079317</td>\n",
              "      <td>0.122648</td>\n",
              "      <td>0.224470</td>\n",
              "      <td>-0.218286</td>\n",
              "      <td>0.402364</td>\n",
              "      <td>0.479861</td>\n",
              "    </tr>\n",
              "    <tr>\n",
              "      <th>degree_t</th>\n",
              "      <td>0.061345</td>\n",
              "      <td>0.205896</td>\n",
              "      <td>0.100863</td>\n",
              "      <td>-0.086450</td>\n",
              "      <td>0.057960</td>\n",
              "      <td>0.596300</td>\n",
              "      <td>0.079317</td>\n",
              "      <td>1.000000</td>\n",
              "      <td>0.105816</td>\n",
              "      <td>0.011509</td>\n",
              "      <td>0.084361</td>\n",
              "      <td>0.116666</td>\n",
              "      <td>-0.020352</td>\n",
              "    </tr>\n",
              "    <tr>\n",
              "      <th>workex</th>\n",
              "      <td>0.085153</td>\n",
              "      <td>0.175675</td>\n",
              "      <td>-0.040744</td>\n",
              "      <td>0.141025</td>\n",
              "      <td>0.038357</td>\n",
              "      <td>0.007856</td>\n",
              "      <td>0.122648</td>\n",
              "      <td>0.105816</td>\n",
              "      <td>1.000000</td>\n",
              "      <td>0.056735</td>\n",
              "      <td>-0.191174</td>\n",
              "      <td>0.168811</td>\n",
              "      <td>0.276060</td>\n",
              "    </tr>\n",
              "    <tr>\n",
              "      <th>etest_p</th>\n",
              "      <td>0.084294</td>\n",
              "      <td>0.261993</td>\n",
              "      <td>-0.018991</td>\n",
              "      <td>0.245113</td>\n",
              "      <td>0.039108</td>\n",
              "      <td>0.075643</td>\n",
              "      <td>0.224470</td>\n",
              "      <td>0.011509</td>\n",
              "      <td>0.056735</td>\n",
              "      <td>1.000000</td>\n",
              "      <td>-0.236315</td>\n",
              "      <td>0.218055</td>\n",
              "      <td>0.127639</td>\n",
              "    </tr>\n",
              "    <tr>\n",
              "      <th>specialisation</th>\n",
              "      <td>-0.106160</td>\n",
              "      <td>-0.172536</td>\n",
              "      <td>-0.051565</td>\n",
              "      <td>-0.241630</td>\n",
              "      <td>0.002232</td>\n",
              "      <td>0.172107</td>\n",
              "      <td>-0.218286</td>\n",
              "      <td>0.084361</td>\n",
              "      <td>-0.191174</td>\n",
              "      <td>-0.236315</td>\n",
              "      <td>1.000000</td>\n",
              "      <td>-0.105728</td>\n",
              "      <td>-0.250655</td>\n",
              "    </tr>\n",
              "    <tr>\n",
              "      <th>mba_p</th>\n",
              "      <td>-0.300531</td>\n",
              "      <td>0.388478</td>\n",
              "      <td>0.083120</td>\n",
              "      <td>0.354823</td>\n",
              "      <td>0.090201</td>\n",
              "      <td>0.039345</td>\n",
              "      <td>0.402364</td>\n",
              "      <td>0.116666</td>\n",
              "      <td>0.168811</td>\n",
              "      <td>0.218055</td>\n",
              "      <td>-0.105728</td>\n",
              "      <td>1.000000</td>\n",
              "      <td>0.076922</td>\n",
              "    </tr>\n",
              "    <tr>\n",
              "      <th>status</th>\n",
              "      <td>0.090670</td>\n",
              "      <td>0.607889</td>\n",
              "      <td>0.037297</td>\n",
              "      <td>0.491228</td>\n",
              "      <td>0.016945</td>\n",
              "      <td>0.033442</td>\n",
              "      <td>0.479861</td>\n",
              "      <td>-0.020352</td>\n",
              "      <td>0.276060</td>\n",
              "      <td>0.127639</td>\n",
              "      <td>-0.250655</td>\n",
              "      <td>0.076922</td>\n",
              "      <td>1.000000</td>\n",
              "    </tr>\n",
              "  </tbody>\n",
              "</table>\n",
              "</div>"
            ],
            "text/plain": [
              "                  gender     ssc_p  ...     mba_p    status\n",
              "gender          1.000000 -0.068969  ... -0.300531  0.090670\n",
              "ssc_p          -0.068969  1.000000  ...  0.388478  0.607889\n",
              "ssc_b           0.019429  0.116194  ...  0.083120  0.037297\n",
              "hsc_p          -0.021334  0.511472  ...  0.354823  0.491228\n",
              "hsc_b           0.065945  0.066996  ...  0.090201  0.016945\n",
              "hsc_s           0.071827  0.236364  ...  0.039345  0.033442\n",
              "degree_p       -0.173217  0.538404  ...  0.402364  0.479861\n",
              "degree_t        0.061345  0.205896  ...  0.116666 -0.020352\n",
              "workex          0.085153  0.175675  ...  0.168811  0.276060\n",
              "etest_p         0.084294  0.261993  ...  0.218055  0.127639\n",
              "specialisation -0.106160 -0.172536  ... -0.105728 -0.250655\n",
              "mba_p          -0.300531  0.388478  ...  1.000000  0.076922\n",
              "status          0.090670  0.607889  ...  0.076922  1.000000\n",
              "\n",
              "[13 rows x 13 columns]"
            ]
          },
          "metadata": {},
          "execution_count": 106
        }
      ]
    },
    {
      "cell_type": "code",
      "metadata": {
        "colab": {
          "base_uri": "https://localhost:8080/",
          "height": 614
        },
        "id": "W5k_Bx8AX_D8",
        "outputId": "8c12cf08-bfc5-4b93-da19-bd2a2f8ebcf9"
      },
      "source": [
        "# heatmap for checking correlation \n",
        "\n",
        "plt.figure(figsize = (20,10))\n",
        "sns.heatmap(placement_df.corr().abs(), annot = True)"
      ],
      "execution_count": 108,
      "outputs": [
        {
          "output_type": "execute_result",
          "data": {
            "text/plain": [
              "<matplotlib.axes._subplots.AxesSubplot at 0x7f82535a2690>"
            ]
          },
          "metadata": {},
          "execution_count": 108
        },
        {
          "output_type": "display_data",
          "data": {
            "image/png": "[encoded data removed]",
            "text/plain": [
              "<Figure size 1440x720 with 2 Axes>"
            ]
          },
          "metadata": {
            "needs_background": "light"
          }
        }
      ]
    },
    {
      "cell_type": "code",
      "metadata": {
        "colab": {
          "base_uri": "https://localhost:8080/",
          "height": 204
        },
        "id": "wIv_lccH8RPA",
        "outputId": "7d95e408-32ab-4f9c-e741-569d01520628"
      },
      "source": [
        "X = placement_df.iloc[:, :-1].values\n",
        "Y = placement_df.iloc[:, -1].values\n",
        "\n",
        "# dividing the data into train and test\n",
        "from sklearn.model_selection import train_test_split\n",
        "X_train, X_test, Y_train, Y_test = train_test_split(X, Y,test_size=0.2)\n",
        " \n",
        "# display dataset\n",
        "placement_df.head()"
      ],
      "execution_count": 90,
      "outputs": [
        {
          "output_type": "execute_result",
          "data": {
            "text/html": [
              "<div>\n",
              "<style scoped>\n",
              "    .dataframe tbody tr th:only-of-type {\n",
              "        vertical-align: middle;\n",
              "    }\n",
              "\n",
              "    .dataframe tbody tr th {\n",
              "        vertical-align: top;\n",
              "    }\n",
              "\n",
              "    .dataframe thead th {\n",
              "        text-align: right;\n",
              "    }\n",
              "</style>\n",
              "<table border=\"1\" class=\"dataframe\">\n",
              "  <thead>\n",
              "    <tr style=\"text-align: right;\">\n",
              "      <th></th>\n",
              "      <th>gender</th>\n",
              "      <th>ssc_p</th>\n",
              "      <th>ssc_b</th>\n",
              "      <th>hsc_p</th>\n",
              "      <th>hsc_b</th>\n",
              "      <th>hsc_s</th>\n",
              "      <th>degree_p</th>\n",
              "      <th>degree_t</th>\n",
              "      <th>workex</th>\n",
              "      <th>etest_p</th>\n",
              "      <th>specialisation</th>\n",
              "      <th>mba_p</th>\n",
              "      <th>status</th>\n",
              "    </tr>\n",
              "  </thead>\n",
              "  <tbody>\n",
              "    <tr>\n",
              "      <th>0</th>\n",
              "      <td>1</td>\n",
              "      <td>67.00</td>\n",
              "      <td>1</td>\n",
              "      <td>91.00</td>\n",
              "      <td>1</td>\n",
              "      <td>1</td>\n",
              "      <td>58.00</td>\n",
              "      <td>2</td>\n",
              "      <td>0</td>\n",
              "      <td>55.0</td>\n",
              "      <td>1</td>\n",
              "      <td>58.80</td>\n",
              "      <td>1</td>\n",
              "    </tr>\n",
              "    <tr>\n",
              "      <th>1</th>\n",
              "      <td>1</td>\n",
              "      <td>79.33</td>\n",
              "      <td>0</td>\n",
              "      <td>78.33</td>\n",
              "      <td>1</td>\n",
              "      <td>2</td>\n",
              "      <td>77.48</td>\n",
              "      <td>2</td>\n",
              "      <td>1</td>\n",
              "      <td>86.5</td>\n",
              "      <td>0</td>\n",
              "      <td>66.28</td>\n",
              "      <td>1</td>\n",
              "    </tr>\n",
              "    <tr>\n",
              "      <th>2</th>\n",
              "      <td>1</td>\n",
              "      <td>65.00</td>\n",
              "      <td>0</td>\n",
              "      <td>68.00</td>\n",
              "      <td>0</td>\n",
              "      <td>0</td>\n",
              "      <td>64.00</td>\n",
              "      <td>0</td>\n",
              "      <td>0</td>\n",
              "      <td>75.0</td>\n",
              "      <td>0</td>\n",
              "      <td>57.80</td>\n",
              "      <td>1</td>\n",
              "    </tr>\n",
              "    <tr>\n",
              "      <th>3</th>\n",
              "      <td>1</td>\n",
              "      <td>56.00</td>\n",
              "      <td>0</td>\n",
              "      <td>52.00</td>\n",
              "      <td>0</td>\n",
              "      <td>2</td>\n",
              "      <td>52.00</td>\n",
              "      <td>2</td>\n",
              "      <td>0</td>\n",
              "      <td>66.0</td>\n",
              "      <td>1</td>\n",
              "      <td>59.43</td>\n",
              "      <td>0</td>\n",
              "    </tr>\n",
              "    <tr>\n",
              "      <th>4</th>\n",
              "      <td>1</td>\n",
              "      <td>85.80</td>\n",
              "      <td>0</td>\n",
              "      <td>73.60</td>\n",
              "      <td>0</td>\n",
              "      <td>1</td>\n",
              "      <td>73.30</td>\n",
              "      <td>0</td>\n",
              "      <td>0</td>\n",
              "      <td>96.8</td>\n",
              "      <td>0</td>\n",
              "      <td>55.50</td>\n",
              "      <td>1</td>\n",
              "    </tr>\n",
              "  </tbody>\n",
              "</table>\n",
              "</div>"
            ],
            "text/plain": [
              "   gender  ssc_p  ssc_b  hsc_p  ...  etest_p  specialisation  mba_p  status\n",
              "0       1  67.00      1  91.00  ...     55.0               1  58.80       1\n",
              "1       1  79.33      0  78.33  ...     86.5               0  66.28       1\n",
              "2       1  65.00      0  68.00  ...     75.0               0  57.80       1\n",
              "3       1  56.00      0  52.00  ...     66.0               1  59.43       0\n",
              "4       1  85.80      0  73.60  ...     96.8               0  55.50       1\n",
              "\n",
              "[5 rows x 13 columns]"
            ]
          },
          "metadata": {},
          "execution_count": 90
        }
      ]
    },
    {
      "cell_type": "code",
      "metadata": {
        "colab": {
          "base_uri": "https://localhost:8080/"
        },
        "id": "tl6ZBsV_ClcJ",
        "outputId": "4d5b5d6a-00c3-4f25-a029-e6e9fc5f75b9"
      },
      "source": [
        "#trianing the model\n",
        "\n",
        "# creating a classifier using sklearn\n",
        "from sklearn.linear_model import LogisticRegression\n",
        " \n",
        "campus_placement = LogisticRegression(random_state=0, solver='lbfgs',max_iter=1000).fit(X_train,Y_train)\n",
        "\n",
        "campus_placement.score(X_test, Y_test)"
      ],
      "execution_count": 91,
      "outputs": [
        {
          "output_type": "execute_result",
          "data": {
            "text/plain": [
              "0.7906976744186046"
            ]
          },
          "metadata": {},
          "execution_count": 91
        }
      ]
    },
    {
      "cell_type": "code",
      "metadata": {
        "id": "MwXFPiPxUqPW"
      },
      "source": [
        "# creating Y_pred for test data\n",
        "Y_pred = campus_placement.predict(X_test)"
      ],
      "execution_count": 102,
      "outputs": []
    },
    {
      "cell_type": "code",
      "metadata": {
        "colab": {
          "base_uri": "https://localhost:8080/"
        },
        "id": "Jf3AlFyqVUtm",
        "outputId": "bbd0dabe-6f9c-4904-b6d0-1562d3a44291"
      },
      "source": [
        "from sklearn.metrics import accuracy_score\n",
        "\n",
        "print(accuracy_score(Y_test, Y_pred))"
      ],
      "execution_count": 103,
      "outputs": [
        {
          "output_type": "stream",
          "name": "stdout",
          "text": [
            "0.7906976744186046\n"
          ]
        }
      ]
    }
  ]
}